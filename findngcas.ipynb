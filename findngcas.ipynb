{
 "cells": [
  {
   "cell_type": "code",
   "execution_count": 2,
   "metadata": {},
   "outputs": [],
   "source": [
    "import pandas as pd\n",
    "import numpy as np\n",
    "import re\n",
    "import pubchempy as pcp"
   ]
  },
  {
   "cell_type": "code",
   "execution_count": 3,
   "metadata": {},
   "outputs": [],
   "source": [
    "def get_cas(name):\n",
    "    cas_list=[]\n",
    "    try:\n",
    "        results = pcp.get_synonyms(name, 'name')\n",
    "        for result in results[0]['Synonym']:\n",
    "            match = re.match(r\"(\\d{2,7})-(\\d\\d)-(\\d)\", result)\n",
    "            if match:\n",
    "                cas_list.append(match.group(0))\n",
    " \n",
    "    except:\n",
    "        cas_list.append(np.nan)\n",
    "    return cas_list[0]\n"
   ]
  },
  {
   "cell_type": "code",
   "execution_count": 4,
   "metadata": {},
   "outputs": [],
   "source": [
    "def get_name(name):\n",
    "    try:\n",
    "        results = pcp.get_synonyms(name, 'name')\n",
    "        return results[0]['Synonym'][0]\n",
    "    \n",
    "    except:\n",
    "        return np.nan\n",
    "        "
   ]
  },
  {
   "cell_type": "code",
   "execution_count": 5,
   "metadata": {},
   "outputs": [],
   "source": [
    "\n",
    "def get_molecular_formula(name):\n",
    "    \n",
    "    try:\n",
    "        compound = pcp.get_compounds(name, 'name')\n",
    "        return compound[0].molecular_formula\n",
    "    \n",
    "    except:\n",
    "        return np.nan"
   ]
  },
  {
   "cell_type": "code",
   "execution_count": 12,
   "metadata": {},
   "outputs": [],
   "source": [
    "def create_chemical_dataframe(chem_list):\n",
    "    CAS_list = []\n",
    "    nm_list = []\n",
    "\n",
    "\n",
    "    for name in chem_list:\n",
    "        cas = get_cas(name)\n",
    "        CAS_list.append(cas)\n",
    "        \n",
    "        nm = get_name(name)\n",
    "        nm_list.append(nm)\n",
    "\n",
    "\n",
    "    chem_df = pd.DataFrame({\n",
    "        'name': chem_list,\n",
    "        'common_name': nm_list,\n",
    "        'cas': CAS_list,\n",
    "\n",
    "    })\n",
    "\n",
    "    return chem_df"
   ]
  },
  {
   "cell_type": "code",
   "execution_count": 14,
   "metadata": {},
   "outputs": [
    {
     "data": {
      "text/html": [
       "<div>\n",
       "<style scoped>\n",
       "    .dataframe tbody tr th:only-of-type {\n",
       "        vertical-align: middle;\n",
       "    }\n",
       "\n",
       "    .dataframe tbody tr th {\n",
       "        vertical-align: top;\n",
       "    }\n",
       "\n",
       "    .dataframe thead th {\n",
       "        text-align: right;\n",
       "    }\n",
       "</style>\n",
       "<table border=\"1\" class=\"dataframe\">\n",
       "  <thead>\n",
       "    <tr style=\"text-align: right;\">\n",
       "      <th></th>\n",
       "      <th>name</th>\n",
       "      <th>common_name</th>\n",
       "      <th>cas</th>\n",
       "    </tr>\n",
       "  </thead>\n",
       "  <tbody>\n",
       "    <tr>\n",
       "      <th>0</th>\n",
       "      <td>ETHYL CAPROATE</td>\n",
       "      <td>ETHYL HEXANOATE</td>\n",
       "      <td>123-66-0</td>\n",
       "    </tr>\n",
       "    <tr>\n",
       "      <th>1</th>\n",
       "      <td>THF</td>\n",
       "      <td>TETRAHYDROFURAN</td>\n",
       "      <td>109-99-9</td>\n",
       "    </tr>\n",
       "    <tr>\n",
       "      <th>2</th>\n",
       "      <td>ISOAMYL ACETATE</td>\n",
       "      <td>ISOAMYL ACETATE</td>\n",
       "      <td>123-92-2</td>\n",
       "    </tr>\n",
       "    <tr>\n",
       "      <th>3</th>\n",
       "      <td>METHYL 2-METHYLBUTYRATE</td>\n",
       "      <td>NaN</td>\n",
       "      <td>868-57-5</td>\n",
       "    </tr>\n",
       "    <tr>\n",
       "      <th>4</th>\n",
       "      <td>METHYL ANTHRANILATE</td>\n",
       "      <td>METHYL ANTHRANILATE</td>\n",
       "      <td>134-20-3</td>\n",
       "    </tr>\n",
       "    <tr>\n",
       "      <th>5</th>\n",
       "      <td>isopropanol</td>\n",
       "      <td>isopropanol</td>\n",
       "      <td>67-63-0</td>\n",
       "    </tr>\n",
       "    <tr>\n",
       "      <th>6</th>\n",
       "      <td>IPA wipes</td>\n",
       "      <td>isopropanol</td>\n",
       "      <td>67-63-0</td>\n",
       "    </tr>\n",
       "    <tr>\n",
       "      <th>7</th>\n",
       "      <td>2-propanol</td>\n",
       "      <td>isopropanol</td>\n",
       "      <td>67-63-0</td>\n",
       "    </tr>\n",
       "    <tr>\n",
       "      <th>8</th>\n",
       "      <td>Rubbing alcohol</td>\n",
       "      <td>isopropanol</td>\n",
       "      <td>67-63-0</td>\n",
       "    </tr>\n",
       "  </tbody>\n",
       "</table>\n",
       "</div>"
      ],
      "text/plain": [
       "                      name          common_name       cas\n",
       "0           ETHYL CAPROATE      ETHYL HEXANOATE  123-66-0\n",
       "1                      THF      TETRAHYDROFURAN  109-99-9\n",
       "2          ISOAMYL ACETATE      ISOAMYL ACETATE  123-92-2\n",
       "3  METHYL 2-METHYLBUTYRATE                  NaN  868-57-5\n",
       "4      METHYL ANTHRANILATE  METHYL ANTHRANILATE  134-20-3\n",
       "5              isopropanol          isopropanol   67-63-0\n",
       "6                IPA wipes          isopropanol   67-63-0\n",
       "7               2-propanol          isopropanol   67-63-0\n",
       "8          Rubbing alcohol          isopropanol   67-63-0"
      ]
     },
     "execution_count": 14,
     "metadata": {},
     "output_type": "execute_result"
    }
   ],
   "source": [
    "chem_list = ['ETHYL CAPROATE', 'THF', 'ISOAMYL ACETATE', \n",
    "'METHYL 2-METHYLBUTYRATE', 'METHYL ANTHRANILATE', 'isopropanol', \n",
    "'IPA wipes', '2-propanol', 'Rubbing alcohol']\n",
    "chemical_dataframe = create_chemical_dataframe(chem_list)\n",
    "chemical_dataframe"
   ]
  },
  {
   "cell_type": "code",
   "execution_count": null,
   "metadata": {},
   "outputs": [],
   "source": []
  }
 ],
 "metadata": {
  "kernelspec": {
   "display_name": "Python 3",
   "language": "python",
   "name": "python3"
  },
  "language_info": {
   "codemirror_mode": {
    "name": "ipython",
    "version": 3
   },
   "file_extension": ".py",
   "mimetype": "text/x-python",
   "name": "python",
   "nbconvert_exporter": "python",
   "pygments_lexer": "ipython3",
   "version": "3.12.5"
  }
 },
 "nbformat": 4,
 "nbformat_minor": 2
}
