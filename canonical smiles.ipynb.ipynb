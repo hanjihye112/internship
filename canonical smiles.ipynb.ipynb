{
 "cells": [
  {
   "cell_type": "code",
   "execution_count": 1,
   "metadata": {},
   "outputs": [],
   "source": [
    "from rdkit import Chem\n",
    "from rdkit.Chem import Draw, Descriptors, Lipinski\n",
    "\n",
    "smiles = 'CC(C)=O'\n",
    "\n",
    "# Canonical SMILES\n",
    "# 1)\n",
    "canon_smiles = Chem.CanonSmiles(smiles)\n",
    "# 2)\n",
    "mol = Chem.MolFromSmiles(smiles)\n",
    "canon_smiles = Chem.MolToSmiles(mol, canonical=True)\n",
    "\n",
    "\n"
   ]
  },
  {
   "cell_type": "code",
   "execution_count": 2,
   "metadata": {},
   "outputs": [],
   "source": [
    "# 3) 시각화\n",
    "def show_smile(canon_smiles):\n",
    "    # SMILES 문자열로부터 분자 객체 생성\n",
    "    mol = Chem.MolFromSmiles(canon_smiles)\n",
    "    \n",
    "    # 분자 객체를 리스트에 담아 그리드 이미지 생성\n",
    "    img = Draw.MolsToGridImage(\n",
    "        [mol],  # 분자 리스트\n",
    "        molsPerRow=5,\n",
    "        subImgSize=(400, 400),\n",
    "        returnPNG=False\n",
    "    )\n",
    "    img.save('molecules.png')\n",
    "\n"
   ]
  },
  {
   "cell_type": "code",
   "execution_count": 3,
   "metadata": {},
   "outputs": [],
   "source": [
    "show_smile(canon_smiles)"
   ]
  },
  {
   "cell_type": "code",
   "execution_count": null,
   "metadata": {},
   "outputs": [],
   "source": []
  }
 ],
 "metadata": {
  "kernelspec": {
   "display_name": "Python 3",
   "language": "python",
   "name": "python3"
  },
  "language_info": {
   "codemirror_mode": {
    "name": "ipython",
    "version": 3
   },
   "file_extension": ".py",
   "mimetype": "text/x-python",
   "name": "python",
   "nbconvert_exporter": "python",
   "pygments_lexer": "ipython3",
   "version": "3.12.5"
  }
 },
 "nbformat": 4,
 "nbformat_minor": 2
}
